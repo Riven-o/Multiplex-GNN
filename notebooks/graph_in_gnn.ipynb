{
 "cells": [
  {
   "cell_type": "code",
   "execution_count": 1,
   "id": "6d132516-3930-46dc-b529-2745d414eb07",
   "metadata": {},
   "outputs": [],
   "source": [
    "import os\n",
    "import numpy as np\n",
    "import pandas as pd\n",
    "import pickle\n",
    "import seaborn as sns\n",
    "import matplotlib.pyplot as plt\n",
    "\n",
    "data_path = '/Users/jiahang/Documents/gnn/dataset'"
   ]
  },
  {
   "cell_type": "code",
   "execution_count": 3,
   "id": "90f5f5c7-d4c5-440d-bd8a-57c49191036a",
   "metadata": {},
   "outputs": [],
   "source": [
    "path = os.path.join(data_path, 'FC_Fisher_Z_transformed.pkl')\n",
    "with open(path, 'rb') as f:\n",
    "    data_FC = pickle.load(f)\n",
    "\n",
    "path = os.path.join(data_path, 'SC.pkl')\n",
    "with open(path, 'rb') as f:\n",
    "    data_SC = pickle.load(f)\n",
    "\n",
    "path = os.path.join(data_path, 'T1.pkl')\n",
    "with open(path, 'rb') as f:\n",
    "    data_T1 = pickle.load(f)\n",
    "\n",
    "path = os.path.join(data_path, 'demo.pkl')\n",
    "with open(path, 'rb') as f:\n",
    "    data_demo = pickle.load(f)"
   ]
  },
  {
   "cell_type": "code",
   "execution_count": 40,
   "id": "19ad032c-d5e9-464d-8edc-543323cec814",
   "metadata": {},
   "outputs": [
    {
     "data": {
      "text/plain": [
       "528"
      ]
     },
     "execution_count": 40,
     "metadata": {},
     "output_type": "execute_result"
    }
   ],
   "source": [
    "len(data_FC)"
   ]
  },
  {
   "cell_type": "code",
   "execution_count": 39,
   "id": "3fbc24ac-878e-43c1-a136-46a9c32b2225",
   "metadata": {},
   "outputs": [
    {
     "data": {
      "text/plain": [
       "636"
      ]
     },
     "execution_count": 39,
     "metadata": {},
     "output_type": "execute_result"
    }
   ],
   "source": [
    "len(data_SC)"
   ]
  },
  {
   "cell_type": "code",
   "execution_count": 7,
   "id": "16b79fc5-c7b8-4995-8fd8-3a2f18833877",
   "metadata": {},
   "outputs": [
    {
     "data": {
      "text/plain": [
       "642"
      ]
     },
     "execution_count": 7,
     "metadata": {},
     "output_type": "execute_result"
    }
   ],
   "source": [
    "len(data_T1)"
   ]
  },
  {
   "cell_type": "code",
   "execution_count": 8,
   "id": "84d55da5-7833-4f42-beea-4ea5958072ce",
   "metadata": {},
   "outputs": [
    {
     "data": {
      "text/plain": [
       "528"
      ]
     },
     "execution_count": 8,
     "metadata": {},
     "output_type": "execute_result"
    }
   ],
   "source": [
    "len(data_demo)"
   ]
  },
  {
   "cell_type": "code",
   "execution_count": 10,
   "id": "2fc8f44c-9633-4d7a-82ca-3d187d01ded4",
   "metadata": {},
   "outputs": [],
   "source": [
    "cnt_fc = 0\n",
    "for name_fc in data_FC.keys():\n",
    "    if name_fc not in data_SC.keys():\n",
    "        cnt_fc += 1"
   ]
  },
  {
   "cell_type": "code",
   "execution_count": 16,
   "id": "5898121a-dbe4-4f77-9cd7-2d42a679a7c5",
   "metadata": {},
   "outputs": [
    {
     "data": {
      "text/plain": [
       "14"
      ]
     },
     "execution_count": 16,
     "metadata": {},
     "output_type": "execute_result"
    }
   ],
   "source": [
    "cnt_fc # there are 14 fc which are not in sc"
   ]
  },
  {
   "cell_type": "code",
   "execution_count": 12,
   "id": "e7b53cc5-ef27-4fe9-82cb-42297d321852",
   "metadata": {},
   "outputs": [],
   "source": [
    "cnt_sc = 0\n",
    "for name_sc in data_SC.keys():\n",
    "    if name_sc not in data_FC.keys():\n",
    "        cnt_sc += 1"
   ]
  },
  {
   "cell_type": "code",
   "execution_count": 15,
   "id": "253709a1-e4cc-464d-95fc-788479d5bbbf",
   "metadata": {},
   "outputs": [
    {
     "data": {
      "text/plain": [
       "122"
      ]
     },
     "execution_count": 15,
     "metadata": {},
     "output_type": "execute_result"
    }
   ],
   "source": [
    "cnt_sc # there are 122 sc which are not in fc"
   ]
  },
  {
   "cell_type": "code",
   "execution_count": 35,
   "id": "f92c59aa-e0ca-4a45-9acb-86b771591989",
   "metadata": {
    "scrolled": true
   },
   "outputs": [
    {
     "name": "stdout",
     "output_type": "stream",
     "text": [
      "136\n"
     ]
    }
   ],
   "source": [
    "cnt = 0\n",
    "for key in set(list(data_SC.keys()) + list(data_FC.keys())):\n",
    "    if key not in data_SC.keys() or key not in data_FC.keys():\n",
    "        cnt += 1\n",
    "print(cnt)"
   ]
  },
  {
   "cell_type": "code",
   "execution_count": 22,
   "id": "74556a42-2392-4cb5-a3a1-3da6c4f5b24e",
   "metadata": {},
   "outputs": [
    {
     "data": {
      "text/plain": [
       "dict_keys(['Age in month', 'Sex', 'Age in year', 'race', 'ethnic_group', 'site', 'perc', 'fd'])"
      ]
     },
     "execution_count": 22,
     "metadata": {},
     "output_type": "execute_result"
    }
   ],
   "source": [
    "data_demo['HCD0008117']"
   ]
  },
  {
   "cell_type": "code",
   "execution_count": 36,
   "id": "a16cd474-0adf-4d67-b689-60abb605d673",
   "metadata": {},
   "outputs": [
    {
     "data": {
      "text/plain": [
       "0.20923076923076922"
      ]
     },
     "execution_count": 36,
     "metadata": {},
     "output_type": "execute_result"
    }
   ],
   "source": [
    "136 / 650"
   ]
  },
  {
   "cell_type": "code",
   "execution_count": 27,
   "id": "2c3a9f94-09bf-478d-9993-e2a7ba130a68",
   "metadata": {},
   "outputs": [
    {
     "name": "stdout",
     "output_type": "stream",
     "text": [
      "382\n"
     ]
    }
   ],
   "source": [
    "cnt = 0\n",
    "for key, val in data_demo.items():\n",
    "    if 'nih_totalcogcomp_ageadjusted' in val.keys():\n",
    "        cnt += 1\n",
    "print(cnt)"
   ]
  },
  {
   "cell_type": "code",
   "execution_count": 52,
   "id": "921b8a78-5f6f-4845-8e59-f24a8e626ffe",
   "metadata": {},
   "outputs": [
    {
     "data": {
      "text/plain": [
       "True"
      ]
     },
     "execution_count": 52,
     "metadata": {},
     "output_type": "execute_result"
    }
   ],
   "source": [
    "len(np.unique(list(data_SC.keys()))) == len(data_SC.keys())"
   ]
  },
  {
   "cell_type": "code",
   "execution_count": 53,
   "id": "78a5fc4c-5476-4c78-b274-3cd27ded67fd",
   "metadata": {},
   "outputs": [
    {
     "data": {
      "text/plain": [
       "True"
      ]
     },
     "execution_count": 53,
     "metadata": {},
     "output_type": "execute_result"
    }
   ],
   "source": [
    "len(np.unique(list(data_FC.keys()))) == len(data_FC.keys())"
   ]
  },
  {
   "cell_type": "code",
   "execution_count": 54,
   "id": "be6b28c7-135f-4d58-a326-e92ce00456f0",
   "metadata": {},
   "outputs": [],
   "source": [
    "whole_set = np.unique(list(data_SC.keys()) + list(data_FC.keys()))"
   ]
  },
  {
   "cell_type": "code",
   "execution_count": 55,
   "id": "af74ddf9-cf03-4104-9424-15074664c3e8",
   "metadata": {},
   "outputs": [
    {
     "name": "stdout",
     "output_type": "stream",
     "text": [
      "122\n"
     ]
    }
   ],
   "source": [
    "# how many graphs having SC but not having FC? not considering having labels or not\n",
    "cnt = 0\n",
    "for key in whole_set:\n",
    "    if key not in data_FC.keys() and key in data_SC.keys():\n",
    "        cnt += 1\n",
    "print(cnt)"
   ]
  },
  {
   "cell_type": "code",
   "execution_count": 56,
   "id": "eda19023-9204-4fd8-a2c2-b17f0c566673",
   "metadata": {},
   "outputs": [
    {
     "name": "stdout",
     "output_type": "stream",
     "text": [
      "14\n"
     ]
    }
   ],
   "source": [
    "# how many graphs having FC but not having SC? not considering having labels or not\n",
    "cnt = 0\n",
    "for key in whole_set:\n",
    "    if key not in data_SC.keys() and key in data_FC.keys():\n",
    "        cnt += 1\n",
    "print(cnt)"
   ]
  },
  {
   "cell_type": "code",
   "execution_count": 61,
   "id": "8ea0194f-6818-4f72-9a2e-8e61f8b2574f",
   "metadata": {},
   "outputs": [
    {
     "name": "stdout",
     "output_type": "stream",
     "text": [
      "0\n"
     ]
    }
   ],
   "source": [
    "# in labeled data, how many graphs having SC but not having FC\n",
    "cnt = 0\n",
    "for key in whole_set:\n",
    "    if key not in data_FC.keys() and key in data_SC.keys() and key in data_demo.keys() and 'nih_totalcogcomp_ageadjusted' in data_demo[key].keys() :\n",
    "        cnt += 1\n",
    "print(cnt)"
   ]
  },
  {
   "cell_type": "code",
   "execution_count": 62,
   "id": "c10cb892-15b0-42a5-8e1f-ae2c1d15950c",
   "metadata": {},
   "outputs": [
    {
     "name": "stdout",
     "output_type": "stream",
     "text": [
      "10\n"
     ]
    }
   ],
   "source": [
    "# in labeled data, how many graphs having FC but not having SC\n",
    "cnt = 0\n",
    "for key in whole_set:\n",
    "    if key not in data_SC.keys() and key in data_FC.keys() and key in data_demo.keys() and 'nih_totalcogcomp_ageadjusted' in data_demo[key].keys() :\n",
    "        cnt += 1\n",
    "print(cnt)"
   ]
  },
  {
   "cell_type": "code",
   "execution_count": null,
   "id": "d1a39200-a68d-4533-958c-614159f8560e",
   "metadata": {},
   "outputs": [],
   "source": [
    "cnt = 0\n",
    "for key, val in data_SC.items():\n",
    "    if key in data_FC.keys():\n",
    "        cnt += 1\n",
    "print(cnt)"
   ]
  },
  {
   "cell_type": "code",
   "execution_count": 28,
   "id": "01c5ca40-9559-4d70-8fd2-2461f8267156",
   "metadata": {},
   "outputs": [
    {
     "name": "stdout",
     "output_type": "stream",
     "text": [
      "372\n"
     ]
    }
   ],
   "source": [
    "cnt = 0\n",
    "for key, val in data_demo.items():\n",
    "    if 'nih_totalcogcomp_ageadjusted' in val.keys() and key in data_SC.keys():\n",
    "        cnt += 1\n",
    "print(cnt)"
   ]
  },
  {
   "cell_type": "code",
   "execution_count": 29,
   "id": "d927965d-91aa-4e2e-922f-f259554ff75a",
   "metadata": {},
   "outputs": [
    {
     "name": "stdout",
     "output_type": "stream",
     "text": [
      "382\n"
     ]
    }
   ],
   "source": [
    "cnt = 0\n",
    "for key, val in data_demo.items():\n",
    "    if 'nih_totalcogcomp_ageadjusted' in val.keys() and key in data_FC.keys():\n",
    "        cnt += 1\n",
    "print(cnt)"
   ]
  },
  {
   "cell_type": "markdown",
   "id": "f31dc919-3f76-40f4-b223-925c6190a152",
   "metadata": {},
   "source": [
    "# test knn speed"
   ]
  },
  {
   "cell_type": "code",
   "execution_count": 3,
   "id": "a6450d86-93c3-446d-88d0-bb259a37ca06",
   "metadata": {},
   "outputs": [],
   "source": [
    "from dgl import knn_graph as dgl_knn_graph\n",
    "from torch_geometric.nn.pool import knn as pyg_knn\n",
    "from torch_geometric.nn.pool import knn_graph as pyg_knn_graph"
   ]
  },
  {
   "cell_type": "code",
   "execution_count": 5,
   "id": "7ce6f81d-ad8c-4dfc-bb1c-48cb8169f0bd",
   "metadata": {},
   "outputs": [],
   "source": [
    "import sys\n",
    "sys.path.append(\"/home/jiahang/gnn\")"
   ]
  },
  {
   "cell_type": "code",
   "execution_count": 9,
   "id": "80c3f649-253b-4a48-bdb1-711b6b5cde59",
   "metadata": {},
   "outputs": [
    {
     "name": "stdout",
     "output_type": "stream",
     "text": [
      "read processed data from /home/jiahang/gnn/dataset/processed_data_regression_split.pkl\n"
     ]
    }
   ],
   "source": [
    "import pickle\n",
    "file_path = \"/home/jiahang/gnn/dataset/processed_data_regression_split.pkl\"\n",
    "print(f\"read processed data from {file_path}\")\n",
    "with open(file_path, 'rb') as f:\n",
    "    data = pickle.load(f)\n",
    "adjs = data['adjs']\n",
    "raw_Xs = data['raw_Xs']\n",
    "labels = data['labels']\n",
    "mu_lbls = data['mu_lbls']\n",
    "std_lbls = data['std_lbls']"
   ]
  },
  {
   "cell_type": "code",
   "execution_count": 22,
   "id": "cb0cd50a-257a-4298-aafc-9ca727e282e9",
   "metadata": {},
   "outputs": [
    {
     "name": "stdout",
     "output_type": "stream",
     "text": [
      "1\n",
      "1\n",
      "1\n",
      "1\n",
      "1\n",
      "1\n",
      "1\n",
      "1\n",
      "1\n",
      "1\n",
      "1\n",
      "1\n",
      "1\n",
      "1\n",
      "1\n",
      "1\n",
      "1\n",
      "1\n",
      "1\n",
      "1\n",
      "1\n",
      "1\n",
      "1\n",
      "1\n",
      "1\n",
      "9.91 µs ± 4.4 µs per loop (mean ± std. dev. of 5 runs, 5 loops each)\n"
     ]
    }
   ],
   "source": [
    "%%timeit -n5 -r5\n",
    "print(1)"
   ]
  },
  {
   "cell_type": "markdown",
   "id": "833524fb-64b4-4886-9693-d515534954c7",
   "metadata": {},
   "source": [
    "## dgl_knn_graph"
   ]
  },
  {
   "cell_type": "code",
   "execution_count": 23,
   "id": "a052f1a0-25c3-48d2-8334-1deebc1ffb85",
   "metadata": {},
   "outputs": [],
   "source": [
    "adjs_dgl = adjs.flatten(-2)"
   ]
  },
  {
   "cell_type": "code",
   "execution_count": 27,
   "id": "b35946a8-bd74-4959-b4a4-853c288cdc79",
   "metadata": {},
   "outputs": [],
   "source": [
    "adjs_dgl = adjs_dgl.to(\"cuda:7\")"
   ]
  },
  {
   "cell_type": "code",
   "execution_count": 30,
   "id": "60f5e62c-9b72-45b0-81aa-39f628924d5c",
   "metadata": {},
   "outputs": [
    {
     "name": "stdout",
     "output_type": "stream",
     "text": [
      "2.26 ms ± 162 µs per loop (mean ± std. dev. of 5 runs, 5 loops each)\n"
     ]
    }
   ],
   "source": [
    "%%timeit -n5 -r5\n",
    "adjs_dgl_res_0 = dgl_knn_graph(adjs_dgl[:, 0], k=5, exclude_self=True)"
   ]
  },
  {
   "cell_type": "code",
   "execution_count": 31,
   "id": "73e78a60-a62c-4bab-9cd3-cb4d6cb03dd2",
   "metadata": {},
   "outputs": [
    {
     "name": "stdout",
     "output_type": "stream",
     "text": [
      "2.73 ms ± 344 µs per loop (mean ± std. dev. of 5 runs, 5 loops each)\n"
     ]
    }
   ],
   "source": [
    "%%timeit -n5 -r5\n",
    "adjs_dgl_res_1 = dgl_knn_graph(adjs_dgl[:, 1], k=5, exclude_self=True)"
   ]
  },
  {
   "cell_type": "code",
   "execution_count": 46,
   "id": "0eb2f6ee-0c69-45c9-ab64-90f14fb9aa01",
   "metadata": {},
   "outputs": [
    {
     "data": {
      "text/plain": [
       "(tensor([ 80,  46, 292,  ..., 141, 215, 166], device='cuda:7'),\n",
       " tensor([  0,   0,   0,  ..., 371, 371, 371], device='cuda:7'))"
      ]
     },
     "execution_count": 46,
     "metadata": {},
     "output_type": "execute_result"
    }
   ],
   "source": [
    "adjs_dgl_res_0.edges()"
   ]
  },
  {
   "cell_type": "markdown",
   "id": "65322788-9886-4875-b834-b4e3d8109838",
   "metadata": {},
   "source": [
    "## pyg_knn"
   ]
  },
  {
   "cell_type": "code",
   "execution_count": 40,
   "id": "c5ee6f1a-054d-4863-8366-42fa3cca7b16",
   "metadata": {},
   "outputs": [
    {
     "name": "stdout",
     "output_type": "stream",
     "text": [
      "CPU times: user 3.36 s, sys: 326 ms, total: 3.69 s\n",
      "Wall time: 2.86 s\n"
     ]
    },
    {
     "data": {
      "text/plain": [
       "tensor([[  0,   0,   0,  ..., 371, 371, 371],\n",
       "        [  0,  80,  46,  ..., 265, 141, 215]])"
      ]
     },
     "execution_count": 40,
     "metadata": {},
     "output_type": "execute_result"
    }
   ],
   "source": [
    "%%time\n",
    "pyg_knn(adjs[:, 0].flatten(-2), adjs[:, 0].flatten(-2), k=5, num_workers=2)"
   ]
  },
  {
   "cell_type": "code",
   "execution_count": 43,
   "id": "246eb1cc-3267-4cd0-a691-e4f86158252e",
   "metadata": {},
   "outputs": [
    {
     "name": "stdout",
     "output_type": "stream",
     "text": [
      "CPU times: user 2.57 s, sys: 194 ms, total: 2.77 s\n",
      "Wall time: 2.22 s\n"
     ]
    },
    {
     "data": {
      "text/plain": [
       "tensor([[ 80,  46, 292,  ..., 141, 215, 166],\n",
       "        [  0,   0,   0,  ..., 371, 371, 371]], device='cuda:7')"
      ]
     },
     "execution_count": 43,
     "metadata": {},
     "output_type": "execute_result"
    }
   ],
   "source": [
    "%%time\n",
    "pyg_knn_graph(adjs[:, 0].flatten(-2).to('cuda:7'), k=5)"
   ]
  },
  {
   "cell_type": "code",
   "execution_count": null,
   "id": "600e5018-a372-458e-84e3-a67b1381add9",
   "metadata": {},
   "outputs": [],
   "source": []
  }
 ],
 "metadata": {
  "kernelspec": {
   "display_name": "Python 3 (ipykernel)",
   "language": "python",
   "name": "python3"
  },
  "language_info": {
   "codemirror_mode": {
    "name": "ipython",
    "version": 3
   },
   "file_extension": ".py",
   "mimetype": "text/x-python",
   "name": "python",
   "nbconvert_exporter": "python",
   "pygments_lexer": "ipython3",
   "version": "3.9.20"
  }
 },
 "nbformat": 4,
 "nbformat_minor": 5
}
